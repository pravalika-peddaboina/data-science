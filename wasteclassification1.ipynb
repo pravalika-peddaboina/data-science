# data science end to end projecct
company:   codtech it solutions
name:      peddaboina pravalika
intern id: CT2MTFAN
domain:    Data Science
batch duration:december 20th,2024  to february 20th 2025
mentor name:Muzammil Ahmed
description:a full data science project, from data collection and prepeocessing to model deployement
